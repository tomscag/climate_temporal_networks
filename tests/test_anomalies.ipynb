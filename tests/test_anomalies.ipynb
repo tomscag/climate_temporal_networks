{
 "cells": [
  {
   "cell_type": "markdown",
   "metadata": {},
   "source": [
    "## Effect of detrending on the anomalies"
   ]
  },
  {
   "cell_type": "code",
   "execution_count": 1,
   "metadata": {},
   "outputs": [],
   "source": [
    "import numpy as np\n",
    "import matplotlib.pyplot as plt\n",
    "from netCDF4 import Dataset\n",
    "\n",
    "from itertools import product\n",
    "import xarray as xr\n"
   ]
  },
  {
   "cell_type": "code",
   "execution_count": 3,
   "metadata": {},
   "outputs": [],
   "source": [
    "def detrend_series(y,m,b):\n",
    "    # Return detrended series\n",
    "    return y - (m*x )\n",
    "\n",
    "\n",
    "def compute_anomalies(data,ds_baseline):\n",
    "\n",
    "    gb = ds_baseline.groupby('time.dayofyear')\n",
    "    clim = gb.mean(dim='time')\n",
    "    std_clim = gb.std(dim='time')\n",
    "\n",
    "    # reindex to full time series\n",
    "    clim_time = clim.sel(dayofyear=data.time.dt.dayofyear)\n",
    "    std_clim_time = std_clim.sel(dayofyear=data.time.dt.dayofyear)\n",
    "    \n",
    "    anomalies   = ((data - clim_time)/std_clim_time)\n",
    "\n",
    "    return anomalies, clim_time, std_clim_time"
   ]
  },
  {
   "cell_type": "markdown",
   "metadata": {},
   "source": [
    "## 1) Here we generate the detrended anomalies\n",
    "1) Load original temperature data\n",
    "2) Detrending sui singoli anni\n",
    "3) Compute anomalies rispetto alla baseline originale "
   ]
  },
  {
   "cell_type": "code",
   "execution_count": 10,
   "metadata": {},
   "outputs": [],
   "source": [
    "\n",
    "VARIABLE        = 't2m'  \n",
    "FILENAME_INPUT  = f\"../data/t2m/t2m_1970_2022_5grid.nc\"\n",
    "\n",
    "# Load original data\n",
    "data_orig        =  xr.open_dataarray(FILENAME_INPUT, engine='netcdf4') \n",
    "\n",
    "\n",
    "nlats = data_orig['lat'].size\n",
    "nlons = data_orig['lon'].size\n",
    "year  = 1985\n",
    "\n",
    "# Define Baseline\n",
    "ds_baseline = data_orig.where( (data_orig['time.year'] >= 1970) & (data_orig['time.year'] <= 1989), drop=True)\n",
    "\n",
    "\n",
    "# Compute anomalies from original data (not detrended)\n",
    "anomalies, clim_time, std_clim_time = compute_anomalies(data_orig,ds_baseline)\n",
    "\n",
    "\n",
    "## Detrend baseline\n",
    "x = np.array(list(range(len(ds_baseline['time']))),dtype=float)\n",
    "for i,j in product(range(nlats),range(nlons)):\n",
    "    # print(i,j)\n",
    "    m, b = np.polyfit(x, ds_baseline[:,i,j], 1)\n",
    "    ds_baseline[:,i,j] = detrend_series(ds_baseline[:,i,j], m,b)\n",
    "\n"
   ]
  },
  {
   "cell_type": "code",
   "execution_count": null,
   "metadata": {},
   "outputs": [],
   "source": [
    "# year = 1970\n",
    "# data_detrended = data_orig.where( (data_orig['time.year'] == year),drop=True)\n",
    "# def detrend_series(y,m,b,t):\n",
    "#     # Return detrended series\n",
    "#     return y - (m*t) \n",
    "# i = 14\n",
    "# j = 33\n",
    "# t = np.array(list(range(len(data_detrended['time']))),dtype=float)\n",
    "# x = data_orig[:,i,j]\n",
    "# x = x.where( (x['time.year'] == year),drop=True)\n",
    "# m, b = np.polyfit(t, data_detrended[:,i,j], 1)\n",
    "# y = detrend_series(x,m,b,t)\n",
    "\n",
    "# plt.plot(x,label='original')\n",
    "# plt.plot(y,label='detrended')\n",
    "# plt.legend()"
   ]
  },
  {
   "cell_type": "code",
   "execution_count": 11,
   "metadata": {},
   "outputs": [],
   "source": [
    "# Select a specific year from original data\n",
    "data_detrended = data_orig.copy()\n",
    "data_detrended = data_detrended.where( (data_detrended['time.year'] == year),drop=True)\n",
    "\n",
    "mlist = np.empty(nlats*nlons,dtype=float)\n",
    "blist = np.empty(nlats*nlons,dtype=float)\n",
    "x = np.array(list(range(len(data_detrended['time']))),dtype=float)\n",
    "\n",
    "# Detrend data for the selected year\n",
    "count = 0\n",
    "for i,j in product(range(nlats),range(nlons)):\n",
    "    # print(i,j)\n",
    "    m, b = np.polyfit(x, data_detrended[:,i,j], 1)\n",
    "\n",
    "    data_detrended[:,i,j] = detrend_series(data_detrended[:,i,j], m,b)\n",
    "    # m, b = np.polyfit(x, data_detrended[:,i,j], 1)\n",
    "    mlist[count] = m\n",
    "    blist[count] = b\n",
    "    count += 1\n",
    "\n",
    "\n",
    "# Compute anomalies for detrended data\n",
    "anomalies_detrended, clim_time, std_clim_time = compute_anomalies(data_detrended,ds_baseline)"
   ]
  },
  {
   "cell_type": "code",
   "execution_count": null,
   "metadata": {},
   "outputs": [],
   "source": [
    "i,j, t = 3,4, np.arange(0,365)\n",
    "data_orig1 = data_orig.where( (data_orig['time.year'] == 2010),drop=True)\n",
    "t = np.array(list(range(len(data_orig1['time']))),dtype=float)\n",
    "m, b = np.polyfit(t, data_orig1[:,i,j], 1)\n",
    "print(m)\n",
    "# plt.plot(data_orig[t,i,j])\n",
    "# plt.plot(data_detrended[t,i,j])"
   ]
  },
  {
   "cell_type": "markdown",
   "metadata": {},
   "source": [
    "## Compare the two versions"
   ]
  },
  {
   "cell_type": "code",
   "execution_count": 12,
   "metadata": {},
   "outputs": [
    {
     "data": {
      "text/plain": [
       "Text(0.5, 1.0, 'Year 1985')"
      ]
     },
     "execution_count": 12,
     "metadata": {},
     "output_type": "execute_result"
    },
    {
     "data": {
      "image/png": "[encoded data removed]",
      "text/plain": [
       "<Figure size 640x480 with 1 Axes>"
      ]
     },
     "metadata": {},
     "output_type": "display_data"
    }
   ],
   "source": [
    "# Select year for anomalies\n",
    "anomalies = anomalies.where( (anomalies['time.year'] == year),drop=True)\n",
    "# anomalies_detrended = anomalies_detrended.where( (data_orig['time.year'] == year),drop=True)\n",
    "\n",
    "time = np.array(range(len(anomalies)),dtype=float)\n",
    "\n",
    "# NOTE: results are more spread out probably because we don't detrend the baseline in the same way\n",
    "\n",
    "bins = np.arange(-10,10,0.03)\n",
    "plt.hist(anomalies.stack(stacked=[\"time\",\"lat\",\"lon\"]),bins=bins,color='b',density=True,alpha=0.5,label='anomalies');\n",
    "plt.hist(anomalies_detrended.stack(stacked=[\"time\",\"lat\",\"lon\"]),bins=bins,color='r',density=True,alpha=0.5,label='detrended');\n",
    "plt.legend()\n",
    "plt.ylabel('pdf',fontsize=15)\n",
    "plt.xlabel('anomalies',fontsize=15)\n",
    "plt.title(f'Year {year}',fontsize=25)"
   ]
  },
  {
   "cell_type": "code",
   "execution_count": null,
   "metadata": {},
   "outputs": [],
   "source": [
    "i = 3\n",
    "j = 45\n",
    "x = data_orig[0:365,i,j]\n",
    "y = data_detrended[:,i,j]\n",
    "plt.plot(x)\n",
    "plt.plot(y)"
   ]
  },
  {
   "cell_type": "code",
   "execution_count": null,
   "metadata": {},
   "outputs": [],
   "source": [
    "m,b= np.polyfit(t,y,1)\n",
    "print(m)\n",
    "z = y-m*t\n",
    "m1,b1 = np.polyfit(t,z,1)\n",
    "print(m1)"
   ]
  },
  {
   "cell_type": "code",
   "execution_count": null,
   "metadata": {},
   "outputs": [],
   "source": []
  },
  {
   "cell_type": "markdown",
   "metadata": {},
   "source": [
    "# 2) Here we detrend all the series first"
   ]
  },
  {
   "cell_type": "code",
   "execution_count": null,
   "metadata": {},
   "outputs": [],
   "source": [
    "VARIABLE        = 't2m'  \n",
    "FILENAME_INPUT  = f\"../data/t2m/t2m_1970_2022_5grid.nc\"\n",
    "\n",
    "# Load original data\n",
    "data_orig        =  xr.open_dataarray(FILENAME_INPUT, engine='netcdf4') \n",
    "\n",
    "\n",
    "nlats = data_orig['lat'].size\n",
    "nlons = data_orig['lon'].size\n",
    "year  = 1985\n",
    "\n",
    "# Define Baseline\n",
    "ds_baseline = data_orig.where( (data_orig['time.year'] >= 1970) & (data_orig['time.year'] <= 1989), drop=True)\n",
    "\n",
    "\n",
    "\n",
    "## Detrend baseline\n",
    "x = np.array(list(range(len(ds_baseline['time']))),dtype=float)\n",
    "for i,j in product(range(nlats),range(nlons)):\n",
    "    # print(i,j)\n",
    "    m, b = np.polyfit(x, ds_baseline[:,i,j], 1)\n",
    "    ds_baseline[:,i,j] = detrend_series(ds_baseline[:,i,j], m,b)\n",
    "\n",
    "\n",
    "# Compute anomalies from original data (not detrended)\n",
    "anomalies, clim_time, std_clim_time = compute_anomalies(data_orig,ds_baseline)"
   ]
  },
  {
   "cell_type": "code",
   "execution_count": null,
   "metadata": {},
   "outputs": [],
   "source": [
    "# Here we detrend all the series\n",
    "data_detrended = data_orig.copy()\n",
    "\n",
    "mlist = np.empty(nlats*nlons,dtype=float)\n",
    "blist = np.empty(nlats*nlons,dtype=float)\n",
    "x = np.array(list(range(len(data_detrended['time']))),dtype=float)\n",
    "\n",
    "# Detrend data for the selected year\n",
    "count = 0\n",
    "for i,j in product(range(nlats),range(nlons)):\n",
    "    # print(i,j)\n",
    "    m, b = np.polyfit(x, data_detrended[:,i,j], 1)\n",
    "\n",
    "    data_detrended[:,i,j] = detrend_series(data_detrended[:,i,j], m,b)\n",
    "    # m, b = np.polyfit(x, data_detrended[:,i,j], 1)\n",
    "    mlist[count] = m\n",
    "    blist[count] = b\n",
    "    count += 1\n",
    "\n",
    "\n",
    "# Compute anomalies for detrended data\n",
    "anomalies_detrended, clim_time, std_clim_time = compute_anomalies(data_detrended,ds_baseline)"
   ]
  },
  {
   "cell_type": "code",
   "execution_count": null,
   "metadata": {},
   "outputs": [],
   "source": [
    "# Select year for anomalies\n",
    "# anomalies = anomalies.where( (anomalies['time.year'] == year),drop=True)\n",
    "# anomalies_detrended = anomalies_detrended.where( (data_orig['time.year'] == year),drop=True)\n",
    "year = 2000\n",
    "time = np.array(range(len(anomalies)),dtype=float)\n",
    "\n",
    "\n",
    "bins = np.arange(-10,10,0.03)\n",
    "an = anomalies.where( (anomalies['time.year'] == year),drop=True)\n",
    "an_det = anomalies_detrended.where( (anomalies_detrended['time.year'] == year),drop=True)\n",
    "plt.hist(an.stack(stacked=[\"time\",\"lat\",\"lon\"]),bins=bins,color='b',density=True,alpha=0.5,label='anomalies');\n",
    "plt.hist(an_det.stack(stacked=[\"time\",\"lat\",\"lon\"]),bins=bins,color='r',density=True,alpha=0.5,label='anom. detrended');\n",
    "plt.legend()\n",
    "plt.ylabel('pdf',fontsize=15)\n",
    "plt.xlabel('anomalies',fontsize=15)\n",
    "# plt.title(f'Global detrending',fontsize=25)\n",
    "plt.title(f'Year {year}',fontsize=25)\n",
    "\n",
    "plt.axvline(x=an.mean().data,color='k',linestyle='--')\n",
    "plt.axvline(x=an_det.mean().data,color='k',linestyle='--')\n",
    "# plt.text(5.0,0.06,f\"mean anom {anomalies.mean().data:.2f}\")\n",
    "# plt.text(5.0,0.10,f\"mean anom detrend {anomalies_detrended.mean().data:.2f}\")\n"
   ]
  },
  {
   "cell_type": "code",
   "execution_count": null,
   "metadata": {},
   "outputs": [],
   "source": [
    "a.data"
   ]
  },
  {
   "cell_type": "code",
   "execution_count": null,
   "metadata": {},
   "outputs": [],
   "source": []
  }
 ],
 "metadata": {
  "kernelspec": {
   "display_name": "Python 3",
   "language": "python",
   "name": "python3"
  },
  "language_info": {
   "codemirror_mode": {
    "name": "ipython",
    "version": 3
   },
   "file_extension": ".py",
   "mimetype": "text/x-python",
   "name": "python",
   "nbconvert_exporter": "python",
   "pygments_lexer": "ipython3",
   "version": "3.10.12"
  }
 },
 "nbformat": 4,
 "nbformat_minor": 2
}
