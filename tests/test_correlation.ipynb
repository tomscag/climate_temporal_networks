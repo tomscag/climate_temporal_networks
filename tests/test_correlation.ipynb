{
 "cells": [
  {
   "cell_type": "markdown",
   "metadata": {},
   "source": [
    "# Test functions for cross correlations\n",
    "Cross- correlation is defined as the normalized cross covariance $K_{XY}$\n",
    "\n",
    "\\begin{align*}\n",
    "K_{X,Y}(\\tau) &= \\mathbb{E}[(X_{t}-\\mu_{X})(Y_{t+\\tau}-\\mu_{Y}) ] \\\\\n",
    "              &= \\frac{\\sum_i (x_i-\\overline{x})(y_i-\\overline{y} )}{N} \\\\\n",
    "              &= \\frac{\\sum_i x_i y_i}{N} - \\overline{x}\\overline{y}.\n",
    "\\end{align*}\n",
    "Note that $N$ is the length of the overlapping segment between the series $X_t$ and $Y_{t+\\tau}$.\n",
    "\n",
    "Cross-correlation is then defined as\n",
    "$$\n",
    "\\rho_{XY}(\\tau) =  \\frac{K_{X,Y}(\\tau)}{\\sigma_X \\sigma_Y},\n",
    "$$\n",
    "in this way it can be interpreted as a $\\tau$-varying Pearson correlation coefficient.\n"
   ]
  },
  {
   "cell_type": "code",
   "execution_count": null,
   "metadata": {},
   "outputs": [],
   "source": [
    "import numpy as np\n",
    "import matplotlib.pyplot as plt\n",
    "from numpy.lib.stride_tricks import as_strided\n"
   ]
  },
  {
   "cell_type": "markdown",
   "metadata": {},
   "source": [
    "### Functions definition"
   ]
  },
  {
   "cell_type": "code",
   "execution_count": 140,
   "metadata": {},
   "outputs": [],
   "source": [
    "def cross_correlation_exact(x,y,maxlag=3,normalize=True):\n",
    "    # Slow version with for loops\n",
    "\n",
    "    lag_list = np.arange(-maxlag,maxlag+1,step=1)\n",
    "    cc = np.full(len(lag_list),np.nan)\n",
    "\n",
    "    for idx,tau in enumerate(lag_list):\n",
    "        # print(tau)\n",
    "        shift = np.abs(tau)\n",
    "        if tau < 0:\n",
    "            yt = y[shift:]\n",
    "            xt = x[:-shift]\n",
    "        elif tau >0:\n",
    "            yt = y[:-shift]\n",
    "            xt = x[shift:]\n",
    "        elif tau == 0:\n",
    "            yt = y\n",
    "            xt = x\n",
    "        \n",
    "        # Cross-covariance\n",
    "        cc[idx] = xt.dot(yt)/len(xt) - np.mean(xt)*np.mean(yt)\n",
    "\n",
    "\n",
    "        if normalize:\n",
    "            cc[idx] /= (np.std(xt)*np.std(yt))\n",
    "            # cc[idx]  =  (xt.dot(yt)/len(xt) - np.mean(xt)*np.mean(yt))/ (np.std(xt)*np.std(yt))\n",
    "        # else:\n",
    "        #     cc[idx] = xt.dot(yt)  # Just the dot product\n",
    "        \n",
    "        cmax = cc.max()\n",
    "\n",
    "    return cmax, cc\n",
    "\n",
    "\n",
    "def cross_correlation_exact_fast(x, y,maxlag=3,normalize=True):\n",
    "    # Fast version: compute dot product with numpy, normalize just the max\n",
    "\n",
    "    lag_list = np.arange(-maxlag,maxlag+1,step=1)\n",
    "    cc = np.full(len(lag_list),np.nan)\n",
    "\n",
    "    py = np.pad(y.conj(), 2*maxlag, mode='constant')\n",
    "    T = as_strided(py[2*maxlag:], shape=(2*maxlag+1, len(y) + 2*maxlag),\n",
    "                   strides=(-py.strides[0], py.strides[0]))\n",
    "    px = np.pad(x, maxlag, mode='constant')\n",
    "\n",
    "    \n",
    "    cc = T.dot(px)\n",
    "\n",
    "    cmax = float(cc.max())\n",
    "\n",
    "\n",
    "    if normalize:\n",
    "\n",
    "        lag_max = lag_list[np.argmax(cc)]\n",
    "        shift = np.abs(lag_max)\n",
    "        if lag_max < 0:\n",
    "            yt = y[shift:]\n",
    "            xt = x[:-shift]\n",
    "        elif lag_max >0:\n",
    "            yt = y[:-shift]\n",
    "            xt = x[shift:]\n",
    "        elif lag_max == 0:\n",
    "            yt = y\n",
    "            xt = x\n",
    "        cmax = cmax/len(xt) - np.mean(xt)*np.mean(yt)\n",
    "\n",
    "    return cmax, cc\n",
    "\n",
    "\n",
    "\n",
    "def crosscorrelation(x, y, maxlag, normalize=True):\n",
    "    \"\"\"\n",
    "    Cross correlation with a maximum number of lags, with optional normalization.\n",
    "\n",
    "    Parameters:\n",
    "    x, y: one-dimensional numpy arrays with the same length.\n",
    "    maxlag: maximum lag for which the cross correlation is computed.\n",
    "    normalize: if True, calculate the normalized cross-correlation.\n",
    "    \n",
    "    Returns:\n",
    "    An array of cross-correlation values with length 2*maxlag + 1.\n",
    "    \n",
    "    Credits: \n",
    "    https://stackoverflow.com/questions/30677241/how-to-limit-cross-correlation-window-width-in-numpy\n",
    "    \n",
    "    \"\"\"\n",
    "    \n",
    "    py = np.pad(y.conj(), 2*maxlag, mode='constant')\n",
    "    T = as_strided(py[2*maxlag:], shape=(2*maxlag+1, len(y) + 2*maxlag),\n",
    "                   strides=(-py.strides[0], py.strides[0]))\n",
    "    px = np.pad(x, maxlag, mode='constant')\n",
    "\n",
    "    \n",
    "    cross_corr = T.dot(px)\n",
    "    \n",
    "    '''if normalize:\n",
    "        # Subtract means\n",
    "        mx = np.mean(x)\n",
    "        my = np.mean(y)\n",
    "        norm = float(len(y) * mx * my)\n",
    "\n",
    "        # Compute the numerator as the sum of products of differences from means\n",
    "        numerator = cross_corr - norm\n",
    "\n",
    "        # Compute the denominator\n",
    "        sigma_x = np.sqrt(np.sum((x - mx) ** 2))\n",
    "        sigma_y = np.sqrt(np.sum((y - my) ** 2))\n",
    "        denominator = float(sigma_x * sigma_y)\n",
    "        \n",
    "        # Normalize the cross-correlation\n",
    "        cross_corr = numerator / denominator'''\n",
    "\n",
    "    cmax = float(cross_corr.max())\n",
    "\n",
    "    if normalize:\n",
    "        mx = np.mean(x)\n",
    "        my = np.mean(y)\n",
    "        norm = float(len(y) * mx * my)\n",
    "\n",
    "        \n",
    "        numerator = cmax - norm\n",
    "\n",
    "        sigma_x = np.sqrt(np.sum((x - mx) ** 2))\n",
    "        sigma_y = np.sqrt(np.sum((y - my) ** 2))\n",
    "        denominator = float(sigma_x * sigma_y)\n",
    "        \n",
    "        cmax = numerator / denominator\n",
    "\n",
    "        cross_corr /= ( sigma_x * sigma_y)\n",
    "\n",
    "    return cmax, cross_corr\n",
    "    \n",
    "\n"
   ]
  },
  {
   "cell_type": "markdown",
   "metadata": {},
   "source": [
    "### Generate two random series with some cross correlation"
   ]
  },
  {
   "cell_type": "code",
   "execution_count": 126,
   "metadata": {},
   "outputs": [],
   "source": [
    "np.random.seed(2304)  # For reproducibility\n",
    "N = int(1e2)\n",
    "x = np.cos(np.arange(N)) + np.random.randn(N)\n",
    "y = np.sin(np.arange(N)) + np.random.randn(N)"
   ]
  },
  {
   "cell_type": "code",
   "execution_count": 132,
   "metadata": {},
   "outputs": [
    {
     "name": "stdout",
     "output_type": "stream",
     "text": [
      "Valore esatto: 0.30508325377573253\n",
      "Valore esatto fast: 0.30508325377573253\n",
      "Valore approssimato: 0.2992570985996778\n"
     ]
    }
   ],
   "source": [
    "cmax, cc = cross_correlation_exact(x,y,maxlag=10, normalize=True)\n",
    "cmax_app, cc_app = crosscorrelation(x,y,maxlag=10, normalize=True)\n",
    "cmax_exact_fast = cross_correlation_exact_fast(x,y,maxlag=10,normalize=True)\n",
    "print(f\"Valore esatto: {cmax}\")\n",
    "print(f\"Valore esatto fast: {cmax}\")\n",
    "print(f\"Valore approssimato: {cmax_app}\")"
   ]
  },
  {
   "cell_type": "markdown",
   "metadata": {},
   "source": [
    "### Performance"
   ]
  },
  {
   "cell_type": "code",
   "execution_count": 135,
   "metadata": {},
   "outputs": [
    {
     "name": "stdout",
     "output_type": "stream",
     "text": [
      "443 µs ± 8.34 µs per loop (mean ± std. dev. of 7 runs, 1,000 loops each)\n"
     ]
    }
   ],
   "source": [
    "%%timeit\n",
    "cmax, cc = cross_correlation_exact(x,y,maxlag=10)"
   ]
  },
  {
   "cell_type": "code",
   "execution_count": 134,
   "metadata": {},
   "outputs": [
    {
     "name": "stdout",
     "output_type": "stream",
     "text": [
      "42.4 µs ± 470 ns per loop (mean ± std. dev. of 7 runs, 10,000 loops each)\n"
     ]
    }
   ],
   "source": [
    "%%timeit\n",
    "cmax_app = crosscorrelation(x,y,maxlag=10)"
   ]
  },
  {
   "cell_type": "code",
   "execution_count": 133,
   "metadata": {},
   "outputs": [
    {
     "name": "stdout",
     "output_type": "stream",
     "text": [
      "42 µs ± 1.62 µs per loop (mean ± std. dev. of 7 runs, 10,000 loops each)\n"
     ]
    }
   ],
   "source": [
    "%%timeit\n",
    "cmax_app = cross_correlation_exact_fast(x,y,maxlag=10)"
   ]
  },
  {
   "cell_type": "code",
   "execution_count": null,
   "metadata": {},
   "outputs": [],
   "source": []
  },
  {
   "cell_type": "code",
   "execution_count": null,
   "metadata": {},
   "outputs": [],
   "source": []
  },
  {
   "cell_type": "markdown",
   "metadata": {},
   "source": [
    "### Plot to check perfect match"
   ]
  },
  {
   "cell_type": "code",
   "execution_count": 141,
   "metadata": {},
   "outputs": [
    {
     "data": {
      "text/plain": [
       "<matplotlib.legend.Legend at 0x7dbd8bd150c0>"
      ]
     },
     "execution_count": 141,
     "metadata": {},
     "output_type": "execute_result"
    },
    {
     "data": {
      "image/png": "[encoded data removed]",
      "text/plain": [
       "<Figure size 640x480 with 1 Axes>"
      ]
     },
     "metadata": {},
     "output_type": "display_data"
    }
   ],
   "source": [
    "# x = np.array([2, 1.5, 0, 0, -1, 3, 2, -0.5])\n",
    "# y = np.arange(8)\n",
    "# np.correlate(x, x, mode='full')[7:11]\n",
    "\n",
    "\n",
    "cmax, cc_ext = cross_correlation_exact(x, y, maxlag=3, normalize=True)\n",
    "cmax_app, cc_app = crosscorrelation(x,y,maxlag=3,normalize=True)\n",
    "# print(np.correlate(x, y, mode='full')[4:11])\n",
    "\n",
    "\n",
    "plt.plot(cc_ext, label = 'Exact')\n",
    "plt.plot(cc_app, label = 'Approx')\n",
    "plt.legend()"
   ]
  },
  {
   "cell_type": "code",
   "execution_count": 137,
   "metadata": {},
   "outputs": [
    {
     "data": {
      "text/plain": [
       "(0.30508325377573253,\n",
       " array([ 0.11699489,  0.30508325,  0.16455191, -0.138874  , -0.276942  ,\n",
       "        -0.14542849,  0.12739688]))"
      ]
     },
     "execution_count": 137,
     "metadata": {},
     "output_type": "execute_result"
    }
   ],
   "source": [
    "cross_correlation_exact(x, y, maxlag=3, normalize=True)"
   ]
  },
  {
   "cell_type": "code",
   "execution_count": 139,
   "metadata": {},
   "outputs": [],
   "source": [
    "cmax_app, cc_app = crosscorrelation(x,y,maxlag=3,normalize=True)"
   ]
  },
  {
   "cell_type": "code",
   "execution_count": null,
   "metadata": {},
   "outputs": [],
   "source": [
    "cc_numpy = np.correlate(x,y,mode=\"full\")\n",
    "cmax, cc = cross_correlation_exact(x,y,maxlag=N, normalize=False)\n",
    "plt.plot(cc, label = \"Exact\")\n",
    "plt.plot(cc_numpy, label= \"Numpy\")"
   ]
  },
  {
   "cell_type": "code",
   "execution_count": null,
   "metadata": {},
   "outputs": [],
   "source": []
  }
 ],
 "metadata": {
  "kernelspec": {
   "display_name": "Python 3",
   "language": "python",
   "name": "python3"
  },
  "language_info": {
   "codemirror_mode": {
    "name": "ipython",
    "version": 3
   },
   "file_extension": ".py",
   "mimetype": "text/x-python",
   "name": "python",
   "nbconvert_exporter": "python",
   "pygments_lexer": "ipython3",
   "version": "3.10.12"
  }
 },
 "nbformat": 4,
 "nbformat_minor": 2
}
