{
 "cells": [
  {
   "cell_type": "code",
   "execution_count": null,
   "metadata": {},
   "outputs": [],
   "source": [
    "from netCDF4 import Dataset\n",
    "import matplotlib.pyplot as plt\n",
    "import math\n",
    "import random\n",
    "from math import e \n",
    "import pandas as pd\n",
    "import numpy as np\n",
    "import statistics\n",
    "from Functions import iaaft\n",
    "import random\n",
    "import os\n",
    "\n",
    "import multiprocessing\n",
    "import xarray as xr"
   ]
  },
  {
   "cell_type": "code",
   "execution_count": null,
   "metadata": {},
   "outputs": [],
   "source": [
    "# DATA INPUT\n",
    "data = Dataset('../data/t2m/filtered_t2m_1970_2022_4grid.nc', 'r')\n",
    "lat  = data.variables['lat']        \n",
    "lon  = data.variables['lon']            \n",
    "temp = data.variables['t2m']"
   ]
  },
  {
   "cell_type": "code",
   "execution_count": 1,
   "metadata": {},
   "outputs": [],
   "source": [
    "import scipy.integrate as integrate\n",
    "import math\n",
    "\n",
    "# prior = math.exp(-dist/2000)"
   ]
  },
  {
   "cell_type": "code",
   "execution_count": 4,
   "metadata": {},
   "outputs": [
    {
     "name": "stdout",
     "output_type": "stream",
     "text": [
      "(2000.0, 6.867114923899472e-08)\n"
     ]
    }
   ],
   "source": [
    "import scipy.integrate as integrate\n",
    "import numpy as np\n",
    "\n",
    "result = integrate.quad(lambda x: math.exp(-x/2000), 0, np.inf)\n",
    "print(result)"
   ]
  },
  {
   "cell_type": "code",
   "execution_count": null,
   "metadata": {},
   "outputs": [],
   "source": [
    "point1_ind = (0,12)\n",
    "point2_ind = (7,15)\n",
    "\n",
    "x = temp[1:1000,point1_ind[0],point1_ind[1]]\n",
    "y = temp[1:1000,point2_ind[0],point2_ind[1]]\n",
    "\n",
    "# x = (x - x.mean())/x.std()\n",
    "# y = (y - y.mean())/y.std()\n",
    "\n",
    "fig = plt.figure(figsize=(6,6))\n",
    "plt.scatter(x,y)\n",
    "plt.title(f\"Coordinates 1: ({lat[point1_ind[0]]} {lon[point1_ind[1]]}) Coordinates 2: ({lat[point2_ind[0]]} {lon[point2_ind[1]]})\")\n",
    "print(f\"correlation coefficient: {np.corrcoef(x,y)[1,0]:.2f}\")"
   ]
  },
  {
   "cell_type": "code",
   "execution_count": null,
   "metadata": {},
   "outputs": [],
   "source": [
    "\n"
   ]
  },
  {
   "cell_type": "code",
   "execution_count": null,
   "metadata": {},
   "outputs": [],
   "source": []
  },
  {
   "cell_type": "code",
   "execution_count": null,
   "metadata": {},
   "outputs": [],
   "source": []
  },
  {
   "cell_type": "markdown",
   "metadata": {},
   "source": [
    "### Analisi Fuzzy networks"
   ]
  },
  {
   "cell_type": "code",
   "execution_count": null,
   "metadata": {},
   "outputs": [],
   "source": [
    "### Test fuzzy network\n",
    "import igraph as ig\n",
    "import numpy as np\n",
    "import matplotlib.pyplot as plt"
   ]
  },
  {
   "cell_type": "code",
   "execution_count": null,
   "metadata": {},
   "outputs": [],
   "source": [
    "def create_network(adj_fuzzy):\n",
    "    random_matrix = np.random.rand(*adj_fuzzy.shape)\n",
    "    adj = (random_matrix < adj_fuzzy).astype(int)\n",
    "    G = ig.Graph.Adjacency(adj,mode=\"upper\",diag=False)\n",
    "    return G\n",
    "\n",
    "def compute_clustering_coefficient(adj_fuzzy,mode=\"zero\",ntrial = 10):\n",
    "    list = []\n",
    "    for i in range(ntrial):\n",
    "        G = create_network(adj_fuzzy)\n",
    "        list.append(G.transitivity_undirected(mode=mode))\n",
    "    return list"
   ]
  },
  {
   "cell_type": "code",
   "execution_count": null,
   "metadata": {},
   "outputs": [],
   "source": [
    "compute_clustering_coefficient(adj_fuzzy)"
   ]
  },
  {
   "cell_type": "code",
   "execution_count": null,
   "metadata": {},
   "outputs": [],
   "source": [
    "################################\n",
    "year  = 1970\n",
    "fpath = f\"./prob_numpyarray_year{year}.npy\"\n",
    "\n",
    "adj_fuzzy = np.load(fpath)\n",
    "# adj_fuzzy = adj_fuzzy[70:,:-70]\n",
    "\n",
    "\n",
    "\n",
    "plt.imshow(adj_fuzzy)\n",
    "plt.colorbar()\n",
    "\n",
    "\n",
    "# plt.hist(adj_fuzzy.flatten(),bins=50)\n",
    "# plt.title(f\"Histogram of Probability for year {year}\")\n",
    "# plt.xlabel(\"Probabilities\",fontsize = 14)\n",
    "# plt.ylabel(\"Count\",fontsize = 14)\n",
    "plt.show()"
   ]
  },
  {
   "cell_type": "code",
   "execution_count": null,
   "metadata": {},
   "outputs": [],
   "source": [
    "random_matrix = np.random.rand(*adj_fuzzy.shape)\n",
    "adj = (random_matrix < adj_fuzzy).astype(int)\n",
    "G = ig.Graph.Adjacency(adj,mode=\"upper\",diag=False)\n",
    "H = G.degree()\n",
    "plt.hist(H,bins=50)\n",
    "plt.show()"
   ]
  },
  {
   "cell_type": "code",
   "execution_count": null,
   "metadata": {},
   "outputs": [],
   "source": [
    "for i in range(15):\n",
    "    random_matrix = np.random.rand(*adj_fuzzy.shape)\n",
    "    adj = (random_matrix < adj_fuzzy).astype(int)\n",
    "    G = ig.Graph.Adjacency(adj,mode=\"upper\",diag=False)\n",
    "\n",
    "    B = [item[1] for item in G.get_edgelist() if item[0]==1000]\n",
    "    print(f\"{len(B)}\")"
   ]
  },
  {
   "cell_type": "code",
   "execution_count": null,
   "metadata": {},
   "outputs": [],
   "source": [
    "compute_clustering_coefficient(G)"
   ]
  },
  {
   "cell_type": "code",
   "execution_count": null,
   "metadata": {},
   "outputs": [],
   "source": []
  },
  {
   "cell_type": "markdown",
   "metadata": {},
   "source": [
    "# Test Manlio\n",
    "Creiamo matrici random, simmetriche, e sampliamo quelle"
   ]
  },
  {
   "cell_type": "code",
   "execution_count": null,
   "metadata": {},
   "outputs": [],
   "source": [
    "import numpy as np\n",
    "import networkx as nx\n",
    "import igraph as ig\n",
    "import math"
   ]
  },
  {
   "cell_type": "code",
   "execution_count": null,
   "metadata": {},
   "outputs": [],
   "source": [
    "compute_clustering_coefficient(A,mode=\"zero\")"
   ]
  },
  {
   "cell_type": "code",
   "execution_count": null,
   "metadata": {},
   "outputs": [],
   "source": [
    "plt.imshow(A)\n",
    "plt.colorbar()"
   ]
  },
  {
   "cell_type": "code",
   "execution_count": null,
   "metadata": {},
   "outputs": [],
   "source": [
    "N = 200\n",
    "A = np.random.rand(N,N)\n",
    "A = (A + A.T)/2\n",
    "\n",
    "# A = np.tril(A) + np.triu(A.T, 1)\n",
    "\n",
    "np.fill_diagonal(A,0)"
   ]
  },
  {
   "cell_type": "code",
   "execution_count": null,
   "metadata": {},
   "outputs": [],
   "source": [
    "def create_network_nx(adj_fuzzy):\n",
    "    random_matrix = np.random.rand(*adj_fuzzy.shape)\n",
    "    adj = (random_matrix < adj_fuzzy).astype(int)\n",
    "    adj = (adj+adj.T)/2\n",
    "    G = nx.Graph(adj)\n",
    "    return G\n",
    "\n",
    "def create_network_ig(adj_fuzzy):\n",
    "    random_matrix = np.random.rand(*adj_fuzzy.shape)\n",
    "    adj = (random_matrix < adj_fuzzy).astype(int)\n",
    "    adj = (adj+adj.T)/2\n",
    "\n",
    "    G = ig.Graph.Adjacency(adj,mode=\"undirected\",diag=True)\n",
    "    return G\n"
   ]
  },
  {
   "cell_type": "code",
   "execution_count": null,
   "metadata": {},
   "outputs": [],
   "source": [
    "\n",
    "\n",
    "G = create_network_nx(A)\n",
    "print(f\"{nx.transitivity(G)}\")\n",
    "\n",
    "\n",
    "G = create_network_ig(A)\n",
    "G.transitivity_undirected()"
   ]
  },
  {
   "cell_type": "code",
   "execution_count": null,
   "metadata": {},
   "outputs": [],
   "source": [
    "# random_matrix = np.random.rand(*A.shape)\n",
    "# adj = (random_matrix < A).astype(int)\n",
    "# adj = np.array([[0,1,0,1],[1,0,0,1],[0,0,0,1],[1,1,1,0]])\n",
    "adj = np.array([[0,1,0,0,1],\n",
    "                [1,0,0,0,1],\n",
    "                [0,0,0,0,1],\n",
    "                [0,0,0,0,1],\n",
    "                [1,1,1,1,0]\n",
    "                ])\n",
    "\n",
    "\n",
    "adj = np.array([[0,1,0,1],\n",
    "                [1,0,0,1],\n",
    "                [0,0,0,1],\n",
    "                [1,1,1,0]\n",
    "                ])\n",
    "# adj = np.triu(adj,0)\n",
    "# adj = (adj + adj.T)"
   ]
  },
  {
   "cell_type": "code",
   "execution_count": null,
   "metadata": {},
   "outputs": [],
   "source": [
    "G = nx.Graph(adj)\n",
    "print(f\"{nx.transitivity(G)}\")\n",
    "sum(np.diag(np.linalg.matrix_power(adj, 3)))/math.comb(4,3)"
   ]
  },
  {
   "cell_type": "code",
   "execution_count": null,
   "metadata": {},
   "outputs": [],
   "source": [
    "\n",
    "adj"
   ]
  },
  {
   "cell_type": "code",
   "execution_count": null,
   "metadata": {},
   "outputs": [],
   "source": []
  }
 ],
 "metadata": {
  "kernelspec": {
   "display_name": "Python 3",
   "language": "python",
   "name": "python3"
  },
  "language_info": {
   "codemirror_mode": {
    "name": "ipython",
    "version": 3
   },
   "file_extension": ".py",
   "mimetype": "text/x-python",
   "name": "python",
   "nbconvert_exporter": "python",
   "pygments_lexer": "ipython3",
   "version": "3.10.12"
  },
  "orig_nbformat": 4
 },
 "nbformat": 4,
 "nbformat_minor": 2
}
