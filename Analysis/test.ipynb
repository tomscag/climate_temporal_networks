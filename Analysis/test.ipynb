{
 "cells": [
  {
   "cell_type": "code",
   "execution_count": null,
   "metadata": {},
   "outputs": [],
   "source": [
    "from netCDF4 import Dataset\n",
    "import matplotlib.pyplot as plt\n",
    "import math\n",
    "import random\n",
    "from math import e \n",
    "import pandas as pd\n",
    "import numpy as np\n",
    "import statistics\n",
    "import iaaft\n",
    "import random\n",
    "import os\n",
    "\n",
    "import multiprocessing\n",
    "import xarray as xr"
   ]
  },
  {
   "cell_type": "code",
   "execution_count": null,
   "metadata": {},
   "outputs": [],
   "source": [
    "def load_dataset(FILENAME_INPUT):\n",
    "    ''' Load nc data into an xarray '''\n",
    "    ds = xr.open_dataset(FILENAME_INPUT, engine='netcdf4')    # netcdf4   cfgrib\n",
    "    return ds\n",
    "\n",
    "\n",
    "def correlation(x1, x2):\n",
    "\n",
    "    return np.corrcoef(x1, x2)[0,1] # to return a single correlation index, instead of a matriz\n",
    "\n",
    "\n",
    "def magnitude(a, b):\n",
    "\n",
    "    func = lambda x, y: np.sqrt(x**2 + y**2)\n",
    "\n",
    "    return xr.apply_ufunc(func, a, b)\n",
    "\n",
    "\n",
    "def mean(a, b):\n",
    "\n",
    "    func = lambda x, y:  x + y\n",
    "\n",
    "    return xr.apply_ufunc(func, a, b)\n",
    "\n"
   ]
  },
  {
   "cell_type": "code",
   "execution_count": null,
   "metadata": {},
   "outputs": [],
   "source": [
    "FILENAME_INPUT    = '../data/t2m/filtered_t2m_1970_2022_4grid.nc'\n",
    "\n",
    "\n",
    "ds     = load_dataset(FILENAME_INPUT)"
   ]
  },
  {
   "cell_type": "code",
   "execution_count": null,
   "metadata": {},
   "outputs": [],
   "source": [
    "ds"
   ]
  },
  {
   "cell_type": "code",
   "execution_count": null,
   "metadata": {},
   "outputs": [],
   "source": [
    "np.random.seed(0)\n",
    "\n",
    "temperature = 15 + 8 * np.random.randn(2, 2, 50)\n",
    "lon = [[-99.83, -99.32], [-99.79, -99.23]]\n",
    "lat = [[42.25, 42.21], [42.63, 42.59]]\n",
    "time = pd.date_range(\"2014-09-06\", periods=50)\n",
    "reference_time = pd.Timestamp(\"2014-09-05\")"
   ]
  },
  {
   "cell_type": "code",
   "execution_count": null,
   "metadata": {},
   "outputs": [],
   "source": [
    "da = xr.DataArray(\n",
    "    data=temperature,\n",
    "    dims=[\"x\", \"y\", \"time\"],\n",
    "    coords=dict(\n",
    "        lon=([\"x\", \"y\"], lon),\n",
    "        lat=([\"x\", \"y\"], lat),\n",
    "        time=time,\n",
    "        reference_time=reference_time,\n",
    "    ),\n",
    "    attrs=dict(\n",
    "        description=\"Ambient temperature.\",\n",
    "        units=\"degC\",\n",
    "    ),\n",
    ")"
   ]
  },
  {
   "cell_type": "code",
   "execution_count": null,
   "metadata": {},
   "outputs": [],
   "source": []
  }
 ],
 "metadata": {
  "kernelspec": {
   "display_name": "Python 3",
   "language": "python",
   "name": "python3"
  },
  "language_info": {
   "codemirror_mode": {
    "name": "ipython",
    "version": 3
   },
   "file_extension": ".py",
   "mimetype": "text/x-python",
   "name": "python",
   "nbconvert_exporter": "python",
   "pygments_lexer": "ipython3",
   "version": "3.10.12"
  },
  "orig_nbformat": 4
 },
 "nbformat": 4,
 "nbformat_minor": 2
}
