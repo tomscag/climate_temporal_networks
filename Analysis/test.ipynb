{
 "cells": [
  {
   "cell_type": "code",
   "execution_count": null,
   "metadata": {},
   "outputs": [],
   "source": [
    "import math\n",
    "import numpy as np\n",
    "import matplotlib.pyplot as plt\n",
    "from lib.misc import generate_coordinates, haversine_distance"
   ]
  },
  {
   "cell_type": "markdown",
   "metadata": {},
   "source": [
    "# Test for the prior probability\n",
    "We want to optimize the $P(H^0_{ij})$ prior probability of a link between two locations"
   ]
  },
  {
   "cell_type": "code",
   "execution_count": null,
   "metadata": {},
   "outputs": [],
   "source": [
    "\n",
    "\n",
    "def find_edge_probability(pval):\n",
    "    '''\n",
    "        Return\n",
    "            p0 (float):     minimum posterior probability of the null hypothesis\n",
    "    '''\n",
    "\n",
    "    def find_bayes_factor(pval):\n",
    "        if pval < math.e**(-1):\n",
    "            B = -math.e*pval*math.log(abs(pval))\n",
    "        else:\n",
    "            B = 1\n",
    "        return B\n",
    "\n",
    "    prior = 0.99 # Global prior probability for the null hypothesis\n",
    "    B = find_bayes_factor(pval)\n",
    "    p0 = 1-(1+((B)*(prior)/(1-prior))**(-1))**(-1)\n",
    "\n",
    "    return p0"
   ]
  },
  {
   "cell_type": "code",
   "execution_count": null,
   "metadata": {},
   "outputs": [],
   "source": [
    "p0 = find_edge_probability(0.0000001)\n",
    "print(p0)\n",
    "\n",
    "coords_dict, lons, lats = generate_coordinates(sizegrid=5)\n",
    "\n",
    "\n",
    "for node, coords in coords_dict.items():\n",
    "    print(node,coords)\n",
    "    \n",
    "\n"
   ]
  },
  {
   "cell_type": "code",
   "execution_count": null,
   "metadata": {},
   "outputs": [],
   "source": [
    "p0list"
   ]
  },
  {
   "cell_type": "code",
   "execution_count": 47,
   "metadata": {},
   "outputs": [
    {
     "data": {
      "text/plain": [
       "(0.0, 0.2)"
      ]
     },
     "execution_count": 47,
     "metadata": {},
     "output_type": "execute_result"
    },
    {
     "data": {
      "image/png": "[encoded data removed]",
      "text/plain": [
       "<Figure size 400x400 with 1 Axes>"
      ]
     },
     "metadata": {},
     "output_type": "display_data"
    }
   ],
   "source": [
    "plist = np.arange(0.0001,1,0.001)\n",
    "p0list = [find_edge_probability(item) for item in plist]\n",
    "\n",
    "fig, ax = plt.subplots(figsize=[4,4])\n",
    "ax.plot(plist,p0list)\n",
    "ax.set_ylim([0,1])\n",
    "ax.set_xlim([0,0.2])"
   ]
  },
  {
   "cell_type": "markdown",
   "metadata": {},
   "source": [
    "## Granger Causality Test\n"
   ]
  },
  {
   "cell_type": "code",
   "execution_count": null,
   "metadata": {},
   "outputs": [],
   "source": [
    "from statsmodels.tsa.stattools import grangercausalitytests\n",
    "from statsmodels.tsa.ar_model import AutoReg\n",
    "import numpy as np\n",
    "import pandas as pd\n",
    "import math\n",
    "import random"
   ]
  },
  {
   "cell_type": "code",
   "execution_count": null,
   "metadata": {},
   "outputs": [],
   "source": [
    "import statsmodels.api as sm\n",
    "from statsmodels.tsa.ar_model import AutoReg\n",
    "data = sm.datasets.sunspots.load_pandas().data['SUNACTIVITY']"
   ]
  },
  {
   "cell_type": "code",
   "execution_count": null,
   "metadata": {},
   "outputs": [],
   "source": [
    "res = AutoReg(data, lags = [1, 11, 12]).fit()\n",
    "print(out.format(res.aic, res.hqic, res.bic))"
   ]
  },
  {
   "cell_type": "code",
   "execution_count": null,
   "metadata": {},
   "outputs": [],
   "source": [
    "def test_granger(x,y,maxlag=2):\n",
    "    ''' Granger causality from x to y'''\n",
    "    res = grangercausalitytests(np.array([y,x]).T,maxlag=maxlag)\n",
    "    print(res)"
   ]
  },
  {
   "cell_type": "code",
   "execution_count": null,
   "metadata": {},
   "outputs": [],
   "source": [
    "N = 1000\n",
    "x = np.random.rand(N)\n",
    "y = np.zeros(N)\n",
    "lag = 10\n",
    "y[lag:] = x[0:N-lag] + 0.2*np.random.random(N-lag)\n",
    "%time test_granger(x,y,maxlag=[6])"
   ]
  },
  {
   "cell_type": "code",
   "execution_count": null,
   "metadata": {},
   "outputs": [],
   "source": []
  },
  {
   "cell_type": "markdown",
   "metadata": {},
   "source": [
    "### Analisi Fuzzy networks"
   ]
  },
  {
   "cell_type": "code",
   "execution_count": null,
   "metadata": {},
   "outputs": [],
   "source": [
    "### Test fuzzy network\n",
    "import igraph as ig\n",
    "import numpy as np\n",
    "import matplotlib.pyplot as plt"
   ]
  },
  {
   "cell_type": "code",
   "execution_count": null,
   "metadata": {},
   "outputs": [],
   "source": [
    "def create_network(adj_fuzzy):\n",
    "    random_matrix = np.random.rand(*adj_fuzzy.shape)\n",
    "    adj = (random_matrix < adj_fuzzy).astype(int)\n",
    "    G = ig.Graph.Adjacency(adj,mode=\"upper\",diag=False)\n",
    "    return G\n",
    "\n",
    "def compute_clustering_coefficient(adj_fuzzy,mode=\"zero\",ntrial = 10):\n",
    "    list = []\n",
    "    for i in range(ntrial):\n",
    "        G = create_network(adj_fuzzy)\n",
    "        list.append(G.transitivity_undirected(mode=mode))\n",
    "    return list"
   ]
  },
  {
   "cell_type": "markdown",
   "metadata": {},
   "source": [
    "# Test Manlio\n",
    "Creiamo matrici random, simmetriche, e sampliamo quelle"
   ]
  },
  {
   "cell_type": "code",
   "execution_count": null,
   "metadata": {},
   "outputs": [],
   "source": [
    "import numpy as np\n",
    "import networkx as nx\n",
    "import igraph as ig\n",
    "import math"
   ]
  },
  {
   "cell_type": "code",
   "execution_count": null,
   "metadata": {},
   "outputs": [],
   "source": [
    "compute_clustering_coefficient(A,mode=\"zero\")"
   ]
  },
  {
   "cell_type": "code",
   "execution_count": null,
   "metadata": {},
   "outputs": [],
   "source": [
    "plt.imshow(A)\n",
    "plt.colorbar()"
   ]
  },
  {
   "cell_type": "code",
   "execution_count": null,
   "metadata": {},
   "outputs": [],
   "source": [
    "N = 200\n",
    "A = np.random.rand(N,N)\n",
    "A = (A + A.T)/2\n",
    "\n",
    "# A = np.tril(A) + np.triu(A.T, 1)\n",
    "\n",
    "np.fill_diagonal(A,0)"
   ]
  },
  {
   "cell_type": "code",
   "execution_count": null,
   "metadata": {},
   "outputs": [],
   "source": [
    "def create_network_nx(adj_fuzzy):\n",
    "    random_matrix = np.random.rand(*adj_fuzzy.shape)\n",
    "    adj = (random_matrix < adj_fuzzy).astype(int)\n",
    "    adj = (adj+adj.T)/2\n",
    "    G = nx.Graph(adj)\n",
    "    return G\n",
    "\n",
    "def create_network_ig(adj_fuzzy):\n",
    "    random_matrix = np.random.rand(*adj_fuzzy.shape)\n",
    "    adj = (random_matrix < adj_fuzzy).astype(int)\n",
    "    adj = (adj+adj.T)/2\n",
    "\n",
    "    G = ig.Graph.Adjacency(adj,mode=\"undirected\",diag=True)\n",
    "    return G\n"
   ]
  },
  {
   "cell_type": "code",
   "execution_count": null,
   "metadata": {},
   "outputs": [],
   "source": [
    "\n",
    "\n",
    "G = create_network_nx(A)\n",
    "print(f\"{nx.transitivity(G)}\")\n",
    "\n",
    "\n",
    "G = create_network_ig(A)\n",
    "G.transitivity_undirected()"
   ]
  },
  {
   "cell_type": "code",
   "execution_count": null,
   "metadata": {},
   "outputs": [],
   "source": [
    "# random_matrix = np.random.rand(*A.shape)\n",
    "# adj = (random_matrix < A).astype(int)\n",
    "# adj = np.array([[0,1,0,1],[1,0,0,1],[0,0,0,1],[1,1,1,0]])\n",
    "adj = np.array([[0,1,0,0,1],\n",
    "                [1,0,0,0,1],\n",
    "                [0,0,0,0,1],\n",
    "                [0,0,0,0,1],\n",
    "                [1,1,1,1,0]\n",
    "                ])\n",
    "\n",
    "\n",
    "adj = np.array([[0,1,0,1],\n",
    "                [1,0,0,1],\n",
    "                [0,0,0,1],\n",
    "                [1,1,1,0]\n",
    "                ])\n",
    "# adj = np.triu(adj,0)\n",
    "# adj = (adj + adj.T)"
   ]
  },
  {
   "cell_type": "code",
   "execution_count": null,
   "metadata": {},
   "outputs": [],
   "source": [
    "G = nx.Graph(adj)\n",
    "print(f\"{nx.transitivity(G)}\")\n",
    "sum(np.diag(np.linalg.matrix_power(adj, 3)))/math.comb(4,3)"
   ]
  },
  {
   "cell_type": "code",
   "execution_count": null,
   "metadata": {},
   "outputs": [],
   "source": [
    "\n",
    "adj"
   ]
  },
  {
   "cell_type": "code",
   "execution_count": null,
   "metadata": {},
   "outputs": [],
   "source": []
  }
 ],
 "metadata": {
  "kernelspec": {
   "display_name": "Python 3",
   "language": "python",
   "name": "python3"
  },
  "language_info": {
   "codemirror_mode": {
    "name": "ipython",
    "version": 3
   },
   "file_extension": ".py",
   "mimetype": "text/x-python",
   "name": "python",
   "nbconvert_exporter": "python",
   "pygments_lexer": "ipython3",
   "version": "3.10.12"
  },
  "orig_nbformat": 4
 },
 "nbformat": 4,
 "nbformat_minor": 2
}
