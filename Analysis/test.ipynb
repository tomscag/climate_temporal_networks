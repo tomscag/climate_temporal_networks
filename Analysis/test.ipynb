{
 "cells": [
  {
   "cell_type": "markdown",
   "metadata": {},
   "source": [
    "## Granger Causality Test\n"
   ]
  },
  {
   "cell_type": "code",
   "execution_count": 1,
   "metadata": {},
   "outputs": [],
   "source": [
    "from statsmodels.tsa.stattools import grangercausalitytests\n",
    "from statsmodels.tsa.ar_model import AutoReg\n",
    "import numpy as np\n",
    "import pandas as pd\n",
    "import math\n",
    "import random"
   ]
  },
  {
   "cell_type": "code",
   "execution_count": 48,
   "metadata": {},
   "outputs": [],
   "source": [
    "import statsmodels.api as sm\n",
    "from statsmodels.tsa.ar_model import AutoReg\n",
    "data = sm.datasets.sunspots.load_pandas().data['SUNACTIVITY']"
   ]
  },
  {
   "cell_type": "code",
   "execution_count": 49,
   "metadata": {},
   "outputs": [
    {
     "name": "stdout",
     "output_type": "stream",
     "text": [
      "AIC: 2608.546, HQIC: 2615.940, BIC: 2627.015\n"
     ]
    }
   ],
   "source": [
    "res = AutoReg(data, lags = [1, 11, 12]).fit()\n",
    "print(out.format(res.aic, res.hqic, res.bic))"
   ]
  },
  {
   "cell_type": "code",
   "execution_count": 2,
   "metadata": {},
   "outputs": [],
   "source": [
    "def test_granger(x,y,maxlag=2):\n",
    "    ''' Granger causality from x to y'''\n",
    "    res = grangercausalitytests(np.array([y,x]).T,maxlag=maxlag)\n",
    "    print(res)"
   ]
  },
  {
   "cell_type": "code",
   "execution_count": 16,
   "metadata": {},
   "outputs": [
    {
     "name": "stdout",
     "output_type": "stream",
     "text": [
      "\n",
      "Granger Causality\n",
      "number of lags (no zero) 6\n",
      "ssr based F test:         F=1.5384  , p=0.1623  , df_denom=981, df_num=6\n",
      "ssr based chi2 test:   chi2=9.3525  , p=0.1547  , df=6\n",
      "likelihood ratio test: chi2=9.3088  , p=0.1569  , df=6\n",
      "parameter F test:         F=1.5384  , p=0.1623  , df_denom=981, df_num=6\n",
      "{6: ({'ssr_ftest': (1.53836061885984, 0.16233512318574, 981.0, 6), 'ssr_chi2test': (9.352479847991933, 0.15470363247549762, 6), 'lrtest': (9.308755470289725, 0.1569439449081713, 6), 'params_ftest': (1.5383606188598262, 0.16233512318574536, 981.0, 6.0)}, [<statsmodels.regression.linear_model.RegressionResultsWrapper object at 0x7f45c52b19f0>, <statsmodels.regression.linear_model.RegressionResultsWrapper object at 0x7f45c52b3d60>, array([[0., 0., 0., 0., 0., 0., 1., 0., 0., 0., 0., 0., 0.],\n",
      "       [0., 0., 0., 0., 0., 0., 0., 1., 0., 0., 0., 0., 0.],\n",
      "       [0., 0., 0., 0., 0., 0., 0., 0., 1., 0., 0., 0., 0.],\n",
      "       [0., 0., 0., 0., 0., 0., 0., 0., 0., 1., 0., 0., 0.],\n",
      "       [0., 0., 0., 0., 0., 0., 0., 0., 0., 0., 1., 0., 0.],\n",
      "       [0., 0., 0., 0., 0., 0., 0., 0., 0., 0., 0., 1., 0.]])])}\n",
      "CPU times: user 14.4 ms, sys: 12.9 ms, total: 27.3 ms\n",
      "Wall time: 4.94 ms\n"
     ]
    }
   ],
   "source": [
    "N = 1000\n",
    "x = np.random.rand(N)\n",
    "y = np.zeros(N)\n",
    "lag = 10\n",
    "y[lag:] = x[0:N-lag] + 0.2*np.random.random(N-lag)\n",
    "%time test_granger(x,y,maxlag=[6])"
   ]
  },
  {
   "cell_type": "code",
   "execution_count": null,
   "metadata": {},
   "outputs": [],
   "source": []
  },
  {
   "cell_type": "markdown",
   "metadata": {},
   "source": [
    "### Analisi Fuzzy networks"
   ]
  },
  {
   "cell_type": "code",
   "execution_count": null,
   "metadata": {},
   "outputs": [],
   "source": [
    "### Test fuzzy network\n",
    "import igraph as ig\n",
    "import numpy as np\n",
    "import matplotlib.pyplot as plt"
   ]
  },
  {
   "cell_type": "code",
   "execution_count": null,
   "metadata": {},
   "outputs": [],
   "source": [
    "def create_network(adj_fuzzy):\n",
    "    random_matrix = np.random.rand(*adj_fuzzy.shape)\n",
    "    adj = (random_matrix < adj_fuzzy).astype(int)\n",
    "    G = ig.Graph.Adjacency(adj,mode=\"upper\",diag=False)\n",
    "    return G\n",
    "\n",
    "def compute_clustering_coefficient(adj_fuzzy,mode=\"zero\",ntrial = 10):\n",
    "    list = []\n",
    "    for i in range(ntrial):\n",
    "        G = create_network(adj_fuzzy)\n",
    "        list.append(G.transitivity_undirected(mode=mode))\n",
    "    return list"
   ]
  },
  {
   "cell_type": "markdown",
   "metadata": {},
   "source": [
    "# Test Manlio\n",
    "Creiamo matrici random, simmetriche, e sampliamo quelle"
   ]
  },
  {
   "cell_type": "code",
   "execution_count": null,
   "metadata": {},
   "outputs": [],
   "source": [
    "import numpy as np\n",
    "import networkx as nx\n",
    "import igraph as ig\n",
    "import math"
   ]
  },
  {
   "cell_type": "code",
   "execution_count": null,
   "metadata": {},
   "outputs": [],
   "source": [
    "compute_clustering_coefficient(A,mode=\"zero\")"
   ]
  },
  {
   "cell_type": "code",
   "execution_count": null,
   "metadata": {},
   "outputs": [],
   "source": [
    "plt.imshow(A)\n",
    "plt.colorbar()"
   ]
  },
  {
   "cell_type": "code",
   "execution_count": null,
   "metadata": {},
   "outputs": [],
   "source": [
    "N = 200\n",
    "A = np.random.rand(N,N)\n",
    "A = (A + A.T)/2\n",
    "\n",
    "# A = np.tril(A) + np.triu(A.T, 1)\n",
    "\n",
    "np.fill_diagonal(A,0)"
   ]
  },
  {
   "cell_type": "code",
   "execution_count": null,
   "metadata": {},
   "outputs": [],
   "source": [
    "def create_network_nx(adj_fuzzy):\n",
    "    random_matrix = np.random.rand(*adj_fuzzy.shape)\n",
    "    adj = (random_matrix < adj_fuzzy).astype(int)\n",
    "    adj = (adj+adj.T)/2\n",
    "    G = nx.Graph(adj)\n",
    "    return G\n",
    "\n",
    "def create_network_ig(adj_fuzzy):\n",
    "    random_matrix = np.random.rand(*adj_fuzzy.shape)\n",
    "    adj = (random_matrix < adj_fuzzy).astype(int)\n",
    "    adj = (adj+adj.T)/2\n",
    "\n",
    "    G = ig.Graph.Adjacency(adj,mode=\"undirected\",diag=True)\n",
    "    return G\n"
   ]
  },
  {
   "cell_type": "code",
   "execution_count": null,
   "metadata": {},
   "outputs": [],
   "source": [
    "\n",
    "\n",
    "G = create_network_nx(A)\n",
    "print(f\"{nx.transitivity(G)}\")\n",
    "\n",
    "\n",
    "G = create_network_ig(A)\n",
    "G.transitivity_undirected()"
   ]
  },
  {
   "cell_type": "code",
   "execution_count": null,
   "metadata": {},
   "outputs": [],
   "source": [
    "# random_matrix = np.random.rand(*A.shape)\n",
    "# adj = (random_matrix < A).astype(int)\n",
    "# adj = np.array([[0,1,0,1],[1,0,0,1],[0,0,0,1],[1,1,1,0]])\n",
    "adj = np.array([[0,1,0,0,1],\n",
    "                [1,0,0,0,1],\n",
    "                [0,0,0,0,1],\n",
    "                [0,0,0,0,1],\n",
    "                [1,1,1,1,0]\n",
    "                ])\n",
    "\n",
    "\n",
    "adj = np.array([[0,1,0,1],\n",
    "                [1,0,0,1],\n",
    "                [0,0,0,1],\n",
    "                [1,1,1,0]\n",
    "                ])\n",
    "# adj = np.triu(adj,0)\n",
    "# adj = (adj + adj.T)"
   ]
  },
  {
   "cell_type": "code",
   "execution_count": null,
   "metadata": {},
   "outputs": [],
   "source": [
    "G = nx.Graph(adj)\n",
    "print(f\"{nx.transitivity(G)}\")\n",
    "sum(np.diag(np.linalg.matrix_power(adj, 3)))/math.comb(4,3)"
   ]
  },
  {
   "cell_type": "code",
   "execution_count": null,
   "metadata": {},
   "outputs": [],
   "source": [
    "\n",
    "adj"
   ]
  },
  {
   "cell_type": "code",
   "execution_count": null,
   "metadata": {},
   "outputs": [],
   "source": []
  }
 ],
 "metadata": {
  "kernelspec": {
   "display_name": "Python 3",
   "language": "python",
   "name": "python3"
  },
  "language_info": {
   "codemirror_mode": {
    "name": "ipython",
    "version": 3
   },
   "file_extension": ".py",
   "mimetype": "text/x-python",
   "name": "python",
   "nbconvert_exporter": "python",
   "pygments_lexer": "ipython3",
   "version": "3.10.12"
  },
  "orig_nbformat": 4
 },
 "nbformat": 4,
 "nbformat_minor": 2
}
